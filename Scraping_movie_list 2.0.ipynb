{
 "cells": [
  {
   "cell_type": "code",
   "execution_count": 100,
   "id": "3aea6b77",
   "metadata": {},
   "outputs": [],
   "source": [
    "import pandas as pd\n",
    "import re\n",
    "%run Request_utils.ipynb\n",
    "\n",
    "#ייבאנו את הספריות בהן אנחנו הולכים להשתמש"
   ]
  },
  {
   "cell_type": "code",
   "execution_count": null,
   "id": "5615c809",
   "metadata": {},
   "outputs": [],
   "source": [
    "MAIN_PAGE_LINK = \"https://www.wildaboutmovies.com\"\n",
    "HEADER_CLASS_NAME= \"sublinks\"\n",
    "\n",
    "#את הקלאס אותו אנחנו מחפשים שמנו בתוך משתנה, שאיתו יהיה נוח לעבוד"
   ]
  },
  {
   "cell_type": "code",
   "execution_count": 5,
   "id": "e6c996d0",
   "metadata": {},
   "outputs": [],
   "source": [
    "def get_year_links():\n",
    "    webpage = get_url_page(MAIN_PAGE_LINK)\n",
    "    soup = load_soup_object(webpage) \n",
    "\n",
    "    page_links = list()  \n",
    "    years_div = soup.find_all(\"div\", {\"class\": HEADER_CLASS_NAME})\n",
    "    for year in years_div[1].find_all('li'):\n",
    "        page_links.append(MAIN_PAGE_LINK + year.a['href']) \n",
    "    return page_links\n",
    "\n",
    "# תחילה יצרנו רשימה ולתוכה הכנסנו את כל השנים הקיימות במאגר הסרטים"
   ]
  },
  {
   "cell_type": "code",
   "execution_count": 11,
   "id": "a859384b",
   "metadata": {
    "scrolled": true
   },
   "outputs": [],
   "source": [
    "def get_movie_of_year_data(year_link):\n",
    "    webpage = get_url_page(year_link)\n",
    "    soup = load_soup_object(webpage)\n",
    "    article = soup.find(\"article\",{\"class\":\"post-grid\"})\n",
    "    movie_list = list()\n",
    "    for movie in article.find_all(\"a\", href=re.compile(\"_movies\")):\n",
    "        movie_list.append(movie.text)\n",
    "    return movie_list\n",
    "\n",
    "#עברנו על כל השנים וחילצנו את הסרטים תחת שנים אלו"
   ]
  },
  {
   "cell_type": "code",
   "execution_count": 85,
   "id": "9729fa47",
   "metadata": {},
   "outputs": [],
   "source": [
    "def export_all_movies_separated_by_years():\n",
    "    year_links = get_year_links()\n",
    "    movie_list = list()\n",
    "    for link in year_links:\n",
    "        year = re.findall(r'\\d+', link)[0] \n",
    "        movies = get_movie_of_year_data(link)\n",
    "        for movie in movies:\n",
    "            movie_list.append([movie,year])\n",
    "    return movie_list\n",
    "\n",
    "#לקחנו את הרשימה של השנים שיצרנו, ואת הרשימה של הסרטים שיצרנו, השתמשנו בהן וכך סידרנו את הסרטים לפי שנה ברשימה אחת מאוחדת"
   ]
  },
  {
   "cell_type": "code",
   "execution_count": 94,
   "id": "e562db3a",
   "metadata": {},
   "outputs": [],
   "source": [
    "def export_movie_list_to_csv(movie_list):\n",
    "    df = pd.DataFrame(movie_list, columns = ['Movie_name', 'Year'])\n",
    "    csv_path = df.to_csv(\"./data/wildaboutmovies_movies.csv\")\n",
    "    return csv_path\n",
    "\n",
    "#לאחר מכן לקחנו את הרשימה המאוחדת שיצרנו וייצאנו אותה לDF מסוג CSV"
   ]
  }
 ],
 "metadata": {
  "kernelspec": {
   "display_name": "Python 3 (ipykernel)",
   "language": "python",
   "name": "python3"
  },
  "language_info": {
   "codemirror_mode": {
    "name": "ipython",
    "version": 3
   },
   "file_extension": ".py",
   "mimetype": "text/x-python",
   "name": "python",
   "nbconvert_exporter": "python",
   "pygments_lexer": "ipython3",
   "version": "3.9.7"
  }
 },
 "nbformat": 4,
 "nbformat_minor": 5
}
